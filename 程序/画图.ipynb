{
 "cells": [
  {
   "cell_type": "code",
   "execution_count": 47,
   "metadata": {},
   "outputs": [],
   "source": [
    "import numpy\n",
    "import pandas as pd\n",
    "import matplotlib.pyplot as plt\n",
    "from matplotlib.pyplot import MultipleLocator"
   ]
  },
  {
   "cell_type": "code",
   "execution_count": 48,
   "metadata": {},
   "outputs": [
    {
     "name": "stdout",
     "output_type": "stream",
     "text": [
      "Using matplotlib backend: Qt5Agg\n"
     ]
    }
   ],
   "source": [
    "% matplotlib auto"
   ]
  },
  {
   "cell_type": "code",
   "execution_count": 49,
   "metadata": {},
   "outputs": [],
   "source": [
    "#星期天\n",
    "data =pd.read_excel('C:\\\\Users\\\\Admin\\\\Desktop\\\\小美赛\\\\处理数据_上\\\\08-03.xlsx')"
   ]
  },
  {
   "cell_type": "code",
   "execution_count": 50,
   "metadata": {},
   "outputs": [],
   "source": [
    "#星期1\n",
    "data1 =pd.read_excel('C:\\\\Users\\\\Admin\\\\Desktop\\\\小美赛\\\\处理数据_上\\\\08-04.xlsx')"
   ]
  },
  {
   "cell_type": "code",
   "execution_count": 51,
   "metadata": {},
   "outputs": [],
   "source": [
    "#星期2\n",
    "data2 =pd.read_excel('C:\\\\Users\\\\Admin\\\\Desktop\\\\小美赛\\\\处理数据_上\\\\08-05.xlsx')"
   ]
  },
  {
   "cell_type": "code",
   "execution_count": 52,
   "metadata": {},
   "outputs": [],
   "source": [
    "#星期3\n",
    "data3 =pd.read_excel('C:\\\\Users\\\\Admin\\\\Desktop\\\\小美赛\\\\处理数据_上\\\\08-06.xlsx')"
   ]
  },
  {
   "cell_type": "code",
   "execution_count": 53,
   "metadata": {},
   "outputs": [],
   "source": [
    "#星期5\n",
    "data4 =pd.read_excel('C:\\\\Users\\\\Admin\\\\Desktop\\\\小美赛\\\\处理数据_上\\\\08-08.xlsx')"
   ]
  },
  {
   "cell_type": "code",
   "execution_count": 54,
   "metadata": {},
   "outputs": [],
   "source": [
    "#星期6\n",
    "data5 =pd.read_excel('C:\\\\Users\\\\Admin\\\\Desktop\\\\小美赛\\\\处理数据_上\\\\08-09.xlsx')"
   ]
  },
  {
   "cell_type": "code",
   "execution_count": 55,
   "metadata": {},
   "outputs": [],
   "source": [
    "#星期4\n",
    "data6 =pd.read_excel('C:\\\\Users\\\\Admin\\\\Desktop\\\\小美赛\\\\处理数据_上\\\\08-14.xlsx')"
   ]
  },
  {
   "cell_type": "code",
   "execution_count": 56,
   "metadata": {},
   "outputs": [],
   "source": [
    "###########获取time\n",
    "def time(data):\n",
    "    data['time'] =0\n",
    "    for i in list(range(len(data['时间']))):\n",
    "        t =str(data['时间'][i]).split()[1]\n",
    "        data.loc[i,'time'] = t\n",
    "    return data"
   ]
  },
  {
   "cell_type": "code",
   "execution_count": null,
   "metadata": {},
   "outputs": [],
   "source": []
  },
  {
   "cell_type": "code",
   "execution_count": 57,
   "metadata": {},
   "outputs": [],
   "source": [
    "data =time(data)"
   ]
  },
  {
   "cell_type": "code",
   "execution_count": 58,
   "metadata": {},
   "outputs": [],
   "source": [
    "data1 =time(data1)"
   ]
  },
  {
   "cell_type": "code",
   "execution_count": 59,
   "metadata": {},
   "outputs": [],
   "source": [
    "data2 =time(data2)\n",
    "data3 =time(data3)\n",
    "data4 =time(data4)\n",
    "data5 =time(data5)\n",
    "data6 =time(data6)\n"
   ]
  },
  {
   "cell_type": "code",
   "execution_count": null,
   "metadata": {},
   "outputs": [],
   "source": []
  },
  {
   "cell_type": "code",
   "execution_count": null,
   "metadata": {},
   "outputs": [],
   "source": []
  },
  {
   "cell_type": "code",
   "execution_count": 60,
   "metadata": {},
   "outputs": [],
   "source": [
    "plt.figure(figsize = (10,5))\n",
    "ax=plt.gca()\n",
    "x_major_locator=MultipleLocator(120)\n",
    "ax.xaxis.set_major_locator(x_major_locator)\n",
    "plt.plot(data1['time'],data1['速度'],label =\"1\")\n",
    "\n",
    "plt.ylabel('Speed (m/s)',fontsize =14)\n",
    "plt.xlabel('Time ',fontsize=14)\n",
    "plt.title('Speed Trend',fontsize =20)\n",
    "plt.legend()\n",
    "plt.show()"
   ]
  },
  {
   "cell_type": "code",
   "execution_count": 61,
   "metadata": {},
   "outputs": [],
   "source": [
    "plt.figure(figsize = (10,5))\n",
    "ax=plt.gca()\n",
    "x_major_locator=MultipleLocator(120)\n",
    "ax.xaxis.set_major_locator(x_major_locator)\n",
    "plt.plot(data2['time'],data2['速度'],label =\"2\")\n",
    "plt.ylabel('Speed (m/s)',fontsize =14)\n",
    "plt.xlabel('Time ',fontsize=14)\n",
    "plt.title('Speed Trend',fontsize =20)\n",
    "plt.legend()\n",
    "plt.show()"
   ]
  },
  {
   "cell_type": "code",
   "execution_count": 62,
   "metadata": {},
   "outputs": [],
   "source": [
    "plt.figure(figsize = (10,5))\n",
    "ax=plt.gca()\n",
    "x_major_locator=MultipleLocator(120)\n",
    "ax.xaxis.set_major_locator(x_major_locator)\n",
    "plt.plot(data3['time'],data3['速度'],label =\"3\")\n",
    "plt.ylabel('Speed (m/s)',fontsize =14)\n",
    "plt.xlabel('Time ',fontsize=14)\n",
    "plt.title('Speed Trend',fontsize =20)\n",
    "plt.legend()\n",
    "plt.show()"
   ]
  },
  {
   "cell_type": "code",
   "execution_count": 63,
   "metadata": {},
   "outputs": [],
   "source": [
    "plt.figure(figsize = (10,5))\n",
    "ax=plt.gca()\n",
    "x_major_locator=MultipleLocator(120)\n",
    "ax.xaxis.set_major_locator(x_major_locator)\n",
    "plt.plot(data6['time'],data6['速度'],label =\"4\")\n",
    "plt.ylabel('Speed (m/s)',fontsize =14)\n",
    "plt.xlabel('Time ',fontsize=14)\n",
    "plt.title('Speed Trend',fontsize =20)\n",
    "plt.legend()\n",
    "plt.show()"
   ]
  },
  {
   "cell_type": "code",
   "execution_count": 64,
   "metadata": {},
   "outputs": [],
   "source": [
    "plt.figure(figsize = (10,5))\n",
    "ax=plt.gca()\n",
    "x_major_locator=MultipleLocator(120)\n",
    "ax.xaxis.set_major_locator(x_major_locator)\n",
    "plt.plot(data4['time'],data4['速度'],label =\"5\")\n",
    "plt.ylabel('Speed (m/s)',fontsize =14)\n",
    "plt.xlabel('Time ',fontsize=14)\n",
    "plt.title('Speed Trend',fontsize =20)\n",
    "plt.legend()\n",
    "plt.show()"
   ]
  },
  {
   "cell_type": "code",
   "execution_count": 65,
   "metadata": {},
   "outputs": [],
   "source": [
    "plt.figure(figsize = (10,5))\n",
    "ax=plt.gca()\n",
    "x_major_locator=MultipleLocator(120)\n",
    "ax.xaxis.set_major_locator(x_major_locator)\n",
    "plt.plot(data5['time'],data5['速度'],label =\"6\")\n",
    "plt.ylabel('Speed (m/s)',fontsize =14)\n",
    "plt.xlabel('Time ',fontsize=14)\n",
    "plt.title('Speed Trend',fontsize =20)\n",
    "plt.legend()\n",
    "plt.show()"
   ]
  },
  {
   "cell_type": "code",
   "execution_count": 66,
   "metadata": {},
   "outputs": [],
   "source": [
    "plt.figure(figsize = (10,5))\n",
    "ax=plt.gca()\n",
    "x_major_locator=MultipleLocator(120)\n",
    "ax.xaxis.set_major_locator(x_major_locator)\n",
    "plt.plot(data['time'],data['速度'],label =\"7\")\n",
    "plt.ylabel('Speed (m/s)',fontsize =14)\n",
    "plt.xlabel('Time ',fontsize=14)\n",
    "plt.title('Speed Trend',fontsize =20)\n",
    "plt.legend()\n",
    "plt.show()"
   ]
  },
  {
   "cell_type": "code",
   "execution_count": 67,
   "metadata": {},
   "outputs": [],
   "source": [
    "# plt.ylabel('Speed (m/s)',fontsize =14)\n",
    "# plt.xlabel('Time ',fontsize=14)\n",
    "# plt.title('Speed Trend',fontsize =20)\n",
    "# plt.legend()"
   ]
  },
  {
   "cell_type": "code",
   "execution_count": 68,
   "metadata": {},
   "outputs": [],
   "source": [
    "plt.figure(figsize = (10,5))\n",
    "ax=plt.gca()\n",
    "x_major_locator=MultipleLocator(120)\n",
    "ax.xaxis.set_major_locator(x_major_locator)\n",
    "plt.plot(data5['time'],data5['速度'],label =\"6\")\n",
    "plt.plot(data['time'],data['速度'],label =\"7\")\n",
    "plt.ylabel('Speed (m/s)',fontsize =14)\n",
    "plt.xlabel('Time ',fontsize=14)\n",
    "plt.title('Speed Trend',fontsize =20)\n",
    "plt.legend()\n",
    "plt.show()"
   ]
  },
  {
   "cell_type": "code",
   "execution_count": null,
   "metadata": {},
   "outputs": [],
   "source": []
  },
  {
   "cell_type": "code",
   "execution_count": null,
   "metadata": {},
   "outputs": [],
   "source": []
  }
 ],
 "metadata": {
  "kernelspec": {
   "display_name": "Python 3",
   "language": "python",
   "name": "python3"
  },
  "language_info": {
   "codemirror_mode": {
    "name": "ipython",
    "version": 3
   },
   "file_extension": ".py",
   "mimetype": "text/x-python",
   "name": "python",
   "nbconvert_exporter": "python",
   "pygments_lexer": "ipython3",
   "version": "3.6.5"
  }
 },
 "nbformat": 4,
 "nbformat_minor": 2
}
