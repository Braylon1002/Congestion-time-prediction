{
 "cells": [
  {
   "cell_type": "code",
   "execution_count": 1,
   "metadata": {},
   "outputs": [],
   "source": [
    "import numpy as np\n",
    "import pandas as pd\n",
    "import matplotlib.pyplot as plt\n",
    "import math\n",
    "from matplotlib.pyplot import MultipleLocator"
   ]
  },
  {
   "cell_type": "code",
   "execution_count": 2,
   "metadata": {},
   "outputs": [
    {
     "name": "stdout",
     "output_type": "stream",
     "text": [
      "Using matplotlib backend: Qt5Agg\n"
     ]
    }
   ],
   "source": [
    "% matplotlib auto"
   ]
  },
  {
   "cell_type": "code",
   "execution_count": 4,
   "metadata": {},
   "outputs": [],
   "source": [
    "df = pd.read_excel('C:\\\\Users\\Admin\\\\Desktop\\\\小美赛\\\\数据\\\\数据处理\\\\18.xlsx')"
   ]
  },
  {
   "cell_type": "code",
   "execution_count": 5,
   "metadata": {},
   "outputs": [],
   "source": [
    "#################计算出每一天速度之间的欧氏距离##############\n",
    "def cal_eucl(data):\n",
    "    distance =[]\n",
    "    for i in range (18):\n",
    "        data_1=pd.read_excel('C:\\\\Users\\Admin\\\\Desktop\\\\小美赛\\\\数据\\\\数据处理\\\\{}.xlsx'.format(i+1))\n",
    "        data_sub =data_1 -data\n",
    "        sub = list(data_sub['速度'].values)\n",
    "        d =0\n",
    "        for j in range(len(sub)):\n",
    "            d =sub[j]**2+d\n",
    "        distance.append(d)\n",
    "    return distance "
   ]
  },
  {
   "cell_type": "code",
   "execution_count": 6,
   "metadata": {},
   "outputs": [],
   "source": [
    "###############最近的数据进行排序\n",
    "def  sele(data):\n",
    "    d1 =cal_eucl(data)\n",
    "    d  = pd.DataFrame(d1)\n",
    "    d.sort_values(by = 0,ascending =True,inplace = True)\n",
    "    index = list(d.index)\n",
    "    index_true =[i+1 for i in index]\n",
    "    return index_true "
   ]
  },
  {
   "cell_type": "code",
   "execution_count": 7,
   "metadata": {},
   "outputs": [],
   "source": [
    "###################选取最近的k个数据处理##################\n",
    "def k_select(k,data):\n",
    "    index_all = sele(data)\n",
    "    index = [] \n",
    "    for i in range(k):  \n",
    "        index.append(index_all[i+1])\n",
    "    return index"
   ]
  },
  {
   "cell_type": "code",
   "execution_count": 8,
   "metadata": {},
   "outputs": [
    {
     "name": "stdout",
     "output_type": "stream",
     "text": [
      "12\n",
      "6\n",
      "1\n",
      "7\n",
      "3\n",
      "9\n"
     ]
    }
   ],
   "source": [
    "s = k_select(6,df)\n",
    "s\n",
    "for i in s:\n",
    "    print(i)"
   ]
  },
  {
   "cell_type": "code",
   "execution_count": 9,
   "metadata": {},
   "outputs": [],
   "source": [
    "df1 =pd.read_excel('C:\\\\Users\\Admin\\\\Desktop\\\\小美赛\\\\数据\\\\数据处理\\\\12.xlsx')\n",
    "df2 =pd.read_excel('C:\\\\Users\\Admin\\\\Desktop\\\\小美赛\\\\数据\\\\数据处理\\\\6.xlsx')\n",
    "df3 =pd.read_excel('C:\\\\Users\\Admin\\\\Desktop\\\\小美赛\\\\数据\\\\数据处理\\\\1.xlsx')\n",
    "df4 =pd.read_excel('C:\\\\Users\\Admin\\\\Desktop\\\\小美赛\\\\数据\\\\数据处理\\\\7.xlsx')\n"
   ]
  },
  {
   "cell_type": "code",
   "execution_count": 11,
   "metadata": {},
   "outputs": [],
   "source": [
    "speed =(df1[\"速度\"]+df2[\"速度\"]+df3[\"速度\"]+df4[\"速度\"])/4"
   ]
  },
  {
   "cell_type": "code",
   "execution_count": 12,
   "metadata": {},
   "outputs": [],
   "source": [
    "###########获取time\n",
    "def time(data):\n",
    "    data['time'] =0\n",
    "    for i in list(range(len(data['时间']))):\n",
    "        t =str(data['时间'][i]).split()[1]\n",
    "        data.loc[i,'time'] = t\n",
    "    return data"
   ]
  },
  {
   "cell_type": "code",
   "execution_count": 13,
   "metadata": {},
   "outputs": [],
   "source": [
    "df =time(df)"
   ]
  },
  {
   "cell_type": "code",
   "execution_count": 15,
   "metadata": {},
   "outputs": [],
   "source": [
    "plt.figure(figsize=(10,5))\n",
    "ax =plt.gca()\n",
    "x_major_locator =MultipleLocator(120)\n",
    "ax.xaxis.set_major_locator(x_major_locator)\n",
    "plt.plot(df[\"time\"],speed,label ='predicted value')\n",
    "plt.plot(df[\"time\"],df['速度'],label ='true value')\n",
    "\n",
    "plt.xlabel('time',fontsize =14)\n",
    "plt.ylabel('velocity(m/s)',fontsize =14)\n",
    "# plt.title('Speed Trend',fontsize =20)\n",
    "plt.legend()\n",
    "plt.show()"
   ]
  },
  {
   "cell_type": "code",
   "execution_count": 16,
   "metadata": {},
   "outputs": [],
   "source": [
    "################均方差的计算###########3\n",
    "def MSE(speed1,speed2):\n",
    "    speed =speed1-speed2\n",
    "    return math.sqrt(sum(list(speed**2)))/1080"
   ]
  },
  {
   "cell_type": "code",
   "execution_count": 17,
   "metadata": {},
   "outputs": [
    {
     "data": {
      "text/plain": [
       "0.01301795326584174"
      ]
     },
     "execution_count": 17,
     "metadata": {},
     "output_type": "execute_result"
    }
   ],
   "source": [
    "MSE(df['速度'],speed)"
   ]
  },
  {
   "cell_type": "code",
   "execution_count": 18,
   "metadata": {},
   "outputs": [],
   "source": [
    "##################绝对方差#############\n",
    "def MAE(speed1,speed2):\n",
    "    speed =speed1-speed2\n",
    "    return np.mean(list(abs(speed)))"
   ]
  },
  {
   "cell_type": "code",
   "execution_count": 19,
   "metadata": {},
   "outputs": [
    {
     "data": {
      "text/plain": [
       "0.3382287134916317"
      ]
     },
     "execution_count": 19,
     "metadata": {},
     "output_type": "execute_result"
    }
   ],
   "source": [
    "MAE(df['速度'],speed)"
   ]
  },
  {
   "cell_type": "code",
   "execution_count": null,
   "metadata": {},
   "outputs": [],
   "source": []
  }
 ],
 "metadata": {
  "kernelspec": {
   "display_name": "Python 3",
   "language": "python",
   "name": "python3"
  },
  "language_info": {
   "codemirror_mode": {
    "name": "ipython",
    "version": 3
   },
   "file_extension": ".py",
   "mimetype": "text/x-python",
   "name": "python",
   "nbconvert_exporter": "python",
   "pygments_lexer": "ipython3",
   "version": "3.6.5"
  }
 },
 "nbformat": 4,
 "nbformat_minor": 2
}
